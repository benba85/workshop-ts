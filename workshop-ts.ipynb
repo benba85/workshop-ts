{
 "cells": [
  {
   "cell_type": "markdown",
   "metadata": {},
   "source": [
    "# Workshop - Data Science Projekt\n",
    "## Use Packages"
   ]
  },
  {
   "cell_type": "code",
   "execution_count": null,
   "metadata": {},
   "outputs": [],
   "source": [
    "# Remote data access for pandas\n",
    "import pandas_datareader as webreader\n",
    "# Mathematical functions\n",
    "import math\n",
    "# Fundamental package for scientific computing with Python\n",
    "import numpy as np\n",
    "# Additional functions for analysing and manipulating data\n",
    "import pandas as pd\n",
    "# Date Functions\n",
    "from datetime import date, timedelta, datetime\n",
    "# This function adds plotting functions for calender dates\n",
    "from pandas.plotting import register_matplotlib_converters\n",
    "# Important package for visualization - we use this to plot the market data\n",
    "import matplotlib.pyplot as plt\n",
    "# Formatting dates\n",
    "import matplotlib.dates as mdates\n",
    "# Packages for measuring model performance / errors\n",
    "from sklearn.metrics import mean_absolute_error, mean_squared_error\n",
    "# Deep learning library, used for neural networks\n",
    "from keras.models import Sequential\n",
    "# Deep learning classes for recurrent and regular densely-connected layers\n",
    "from keras.layers import LSTM, Dense, Dropout\n",
    "# EarlyStopping during model training\n",
    "from keras.callbacks import EarlyStopping\n",
    "# This Scaler removes the median and scales the data according to the quantile range to normalize the price data\n",
    "from sklearn.preprocessing import RobustScaler\n",
    "# For detailed configuration of the optimizer\n",
    "from keras.optimizers import Adam"
   ]
  },
  {
   "cell_type": "code",
   "execution_count": null,
   "metadata": {},
   "outputs": [],
   "source": []
  },
  {
   "cell_type": "markdown",
   "metadata": {},
   "source": [
    "## Dataset"
   ]
  },
  {
   "cell_type": "code",
   "execution_count": null,
   "metadata": {},
   "outputs": [],
   "source": [
    "# Setting the timeframe for the data extraction\n",
    "today = date.today()\n",
    "date_today = today.strftime(\"%Y-%m-%d\")\n",
    "date_start = '2010-01-01'\n",
    "\n",
    "# Getting NASDAQ quotes\n",
    "stockname = 'NASDAQ'\n",
    "symbol = '^IXIC'\n",
    "df = webreader.DataReader(\n",
    "    symbol, start=date_start, end=date_today, data_source=\"yahoo\"\n",
    ")\n",
    "\n",
    "# Quick overview of dataset\n",
    "train_dfs = df.copy()\n",
    "train_dfs"
   ]
  },
  {
   "cell_type": "markdown",
   "metadata": {},
   "source": [
    "## Plot Data"
   ]
  },
  {
   "cell_type": "code",
   "execution_count": null,
   "metadata": {},
   "outputs": [],
   "source": [
    "# Plot each column\n",
    "register_matplotlib_converters()\n",
    "nrows = 3\n",
    "ncols = int(round(train_dfs.shape[1] / nrows, 0))\n",
    "fig, ax = plt.subplots(nrows=nrows, ncols=ncols, sharex=True, figsize=(16, 7))\n",
    "fig.subplots_adjust(hspace=0.3, wspace=0.3)\n",
    "x = train_dfs.index\n",
    "columns = train_dfs.columns\n",
    "f = 0\n",
    "for i in range(nrows):\n",
    "    for j in range(ncols):\n",
    "        ax[i, j].xaxis.set_major_locator(mdates.YearLocator())\n",
    "        assetname = columns[f]\n",
    "        y = train_dfs[assetname]\n",
    "        f += 1\n",
    "        ax[i, j].plot(x, y, color='#039dfc', label=stockname, linewidth=1.0)\n",
    "        ax[i, j].set_title(assetname)\n",
    "        ax[i, j].tick_params(axis=\"x\", rotation=90, labelsize=10, length=0)\n",
    "plt.show()\n"
   ]
  },
  {
   "cell_type": "markdown",
   "metadata": {},
   "source": [
    "## Some Data Wrangling"
   ]
  },
  {
   "cell_type": "code",
   "execution_count": null,
   "metadata": {},
   "outputs": [],
   "source": [
    "# Indexing Batches\n",
    "train_df = train_dfs.sort_values(by=['Date']).copy()\n",
    "\n",
    "# We safe a copy of the dates index, before we need to reset it to numbers\n",
    "date_index = train_df.index\n",
    "date_index_df = pd.DataFrame(date_index)\n",
    "\n",
    "# Adding Month and Year in separate columns\n",
    "d = pd.to_datetime(train_df.index)\n",
    "train_df['Day'] = d.strftime(\"%d\")\n",
    "train_df['Month'] = d.strftime(\"%m\")\n",
    "train_df['Year'] = d.strftime(\"%Y\")\n",
    "\n",
    "# We reset the index, so we can convert the date-index to a number-index\n",
    "train_df.reset_index(level=0, inplace=True)\n",
    "train_df.tail(5)"
   ]
  },
  {
   "cell_type": "markdown",
   "metadata": {},
   "source": [
    "## Feature Engineering"
   ]
  },
  {
   "cell_type": "code",
   "execution_count": null,
   "metadata": {},
   "outputs": [],
   "source": [
    "# Feature Engineering\n",
    "def createFeatures(df):\n",
    "    df = pd.DataFrame(df)\n",
    "\n",
    "    # Moving averages - different periods\n",
    "    df['MA200'] = df['Close'].rolling(window=200).mean()\n",
    "    df['MA100'] = df['Close'].rolling(window=100).mean()\n",
    "    df['MA50'] = df['Close'].rolling(window=50).mean()\n",
    "#    df['MA26'] = df['Close'].rolling(window=26).mean()\n",
    "    df['MA20'] = df['Close'].rolling(window=20).mean()\n",
    "#    df['MA12'] = df['Close'].rolling(window=12).mean()\n",
    "\n",
    "    # SMA Differences - different periods\n",
    "    df['DIFF-MA200-MA50'] = df['MA200'] - df['MA50']\n",
    "    df['DIFF-MA200-MA100'] = df['MA200'] - df['MA100']\n",
    "    df['DIFF-MA200-CLOSE'] = df['MA200'] - df['Close']\n",
    "    df['DIFF-MA100-CLOSE'] = df['MA100'] - df['Close']\n",
    "    df['DIFF-MA50-CLOSE'] = df['MA50'] - df['Close']\n",
    "\n",
    "    # Moving Averages on high, lows, and std - different periods\n",
    "    df['MA200_low'] = df['Low'].rolling(window=200).min()\n",
    "    df['MA14_low'] = df['Low'].rolling(window=14).min()\n",
    "    df['MA200_high'] = df['High'].rolling(window=200).max()\n",
    "    df['MA14_high'] = df['High'].rolling(window=14).max()\n",
    "    df['MA20dSTD'] = df['Close'].rolling(window=20).std()\n",
    "\n",
    "    # Exponential Moving Averages (EMAS) - different periods\n",
    "    df['EMA12'] = df['Close'].ewm(span=12, adjust=False).mean()\n",
    " #   df['EMA20'] = df['Close'].ewm(span=20, adjust=False).mean()\n",
    "    df['EMA26'] = df['Close'].ewm(span=26, adjust=False).mean()\n",
    "    df['EMA100'] = df['Close'].ewm(span=100, adjust=False).mean()\n",
    "    df['EMA200'] = df['Close'].ewm(span=200, adjust=False).mean()\n",
    "\n",
    "    # Shifts (one day before and two days before)\n",
    "    df['close_shift-1'] = df.shift(-1)['Close']\n",
    "    df['close_shift-2'] = df.shift(-2)['Close']\n",
    "\n",
    "    # Bollinger Bands\n",
    "    df['Bollinger_Upper'] = df['MA20'] + (df['MA20dSTD'] * 2)\n",
    "    df['Bollinger_Lower'] = df['MA20'] - (df['MA20dSTD'] * 2)\n",
    "\n",
    "    # Relative Strength Index (StochRSI)\n",
    "#    df['K-ratio'] = 100 * ((df['Close'] - df['MA14_low']) / (df['MA14_high'] - df['MA14_low']))\n",
    "#    df['StochRSI'] = df['K-ratio'].rolling(window=3).mean()\n",
    "\n",
    "    # Moving Average Convergence/Divergence (MACD)\n",
    "#    df['MACD'] = df['EMA12'] - df['EMA26']\n",
    "\n",
    "    # Replace nas\n",
    "    nareplace = df.at[df.index.max(), 'Close']\n",
    "    df.fillna((nareplace), inplace=True)\n",
    "\n",
    "    return df"
   ]
  },
  {
   "cell_type": "markdown",
   "metadata": {},
   "source": [
    "## Create Dataset"
   ]
  },
  {
   "cell_type": "code",
   "execution_count": null,
   "metadata": {},
   "outputs": [],
   "source": [
    "# Create the dataset with features\n",
    "data = createFeatures(train_df)"
   ]
  },
  {
   "cell_type": "code",
   "execution_count": null,
   "metadata": {},
   "outputs": [],
   "source": []
  }
 ],
 "metadata": {
     "authors": [
      {
        "name": "benba85"
      }
    ],
    "kernelspec": {
      "display_name": "Python 3",
      "language": "python",
      "name": "python3"
    },
    "language_info": {
      "codemirror_mode": {
        "name": "ipython",
        "version": 3
      },
      "file_extension": ".py",
      "mimetype": "text/x-python",
      "name": "python",
      "nbconvert_exporter": "python",
      "pygments_lexer": "ipython3",
      "version": "3.9"
    }
 },
 "nbformat": 4,
 "nbformat_minor": 5
}
